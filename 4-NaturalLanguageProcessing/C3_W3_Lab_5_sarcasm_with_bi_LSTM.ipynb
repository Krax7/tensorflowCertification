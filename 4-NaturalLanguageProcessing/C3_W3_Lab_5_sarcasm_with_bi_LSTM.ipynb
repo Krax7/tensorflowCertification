{
  "nbformat": 4,
  "nbformat_minor": 0,
  "metadata": {
    "accelerator": "GPU",
    "colab": {
      "name": "C3_W3_Lab_5_sarcasm_with_bi_LSTM.ipynb",
      "provenance": [],
      "collapsed_sections": []
    },
    "kernelspec": {
      "name": "python3",
      "display_name": "Python 3"
    },
    "language_info": {
      "name": "python"
    }
  },
  "cells": [
    {
      "cell_type": "code",
      "metadata": {
        "id": "zX4Kg8DUTKWO"
      },
      "source": [
        "#@title Licensed under the Apache License, Version 2.0 (the \"License\");\n",
        "# you may not use this file except in compliance with the License.\n",
        "# You may obtain a copy of the License at\n",
        "#\n",
        "# https://www.apache.org/licenses/LICENSE-2.0\n",
        "#\n",
        "# Unless required by applicable law or agreed to in writing, software\n",
        "# distributed under the License is distributed on an \"AS IS\" BASIS,\n",
        "# WITHOUT WARRANTIES OR CONDITIONS OF ANY KIND, either express or implied.\n",
        "# See the License for the specific language governing permissions and\n",
        "# limitations under the License."
      ],
      "execution_count": 1,
      "outputs": []
    },
    {
      "cell_type": "markdown",
      "metadata": {
        "id": "DAAo7FxNJOv8"
      },
      "source": [
        "**IMPORTANT NOTE:** This notebook is designed to run as a Colab. Click the button on top that says, `Open in Colab`, to run this notebook as a Colab. Running the notebook on your local machine might result in some of the code blocks throwing errors."
      ]
    },
    {
      "cell_type": "markdown",
      "metadata": {
        "id": "o2nwqAkdJOv9"
      },
      "source": [
        "**Note:** This notebook can run using TensorFlow 2.5.0"
      ]
    },
    {
      "cell_type": "code",
      "metadata": {
        "id": "krV8SxsqJOv9"
      },
      "source": [
        "#!pip install tensorflow==2.5.0"
      ],
      "execution_count": 2,
      "outputs": []
    },
    {
      "cell_type": "code",
      "metadata": {
        "id": "tT5lfDEmHzme",
        "outputId": "58b5fdc5-84bb-46ff-a1eb-c527f8ff00eb",
        "colab": {
          "base_uri": "https://localhost:8080/"
        }
      },
      "source": [
        "# sarcasm.json\n",
        "!gdown --id 1dRzdJS7-cZS4S5CuUc32MZYSLJGkkxnp"
      ],
      "execution_count": 5,
      "outputs": [
        {
          "output_type": "stream",
          "name": "stdout",
          "text": [
            "Permission denied: https://drive.google.com/uc?id=1dRzdJS7-cZS4S5CuUc32MZYSLJGkkxnp\n",
            "Maybe you need to change permission over 'Anyone with the link'?\n"
          ]
        }
      ]
    },
    {
      "cell_type": "code",
      "metadata": {
        "id": "4-GVCyUaQFbK",
        "outputId": "0579ac9f-79dd-4392-bb48-d86cd894d879",
        "colab": {
          "base_uri": "https://localhost:8080/",
          "height": 206
        }
      },
      "source": [
        "import pandas as pd\n",
        "df = pd.read_json('./sarcasm.json', lines=True)\n",
        "df.head()"
      ],
      "execution_count": 2,
      "outputs": [
        {
          "output_type": "execute_result",
          "data": {
            "text/html": [
              "<div>\n",
              "<style scoped>\n",
              "    .dataframe tbody tr th:only-of-type {\n",
              "        vertical-align: middle;\n",
              "    }\n",
              "\n",
              "    .dataframe tbody tr th {\n",
              "        vertical-align: top;\n",
              "    }\n",
              "\n",
              "    .dataframe thead th {\n",
              "        text-align: right;\n",
              "    }\n",
              "</style>\n",
              "<table border=\"1\" class=\"dataframe\">\n",
              "  <thead>\n",
              "    <tr style=\"text-align: right;\">\n",
              "      <th></th>\n",
              "      <th>article_link</th>\n",
              "      <th>headline</th>\n",
              "      <th>is_sarcastic</th>\n",
              "    </tr>\n",
              "  </thead>\n",
              "  <tbody>\n",
              "    <tr>\n",
              "      <th>0</th>\n",
              "      <td>https://www.huffingtonpost.com/entry/versace-b...</td>\n",
              "      <td>former versace store clerk sues over secret 'b...</td>\n",
              "      <td>0</td>\n",
              "    </tr>\n",
              "    <tr>\n",
              "      <th>1</th>\n",
              "      <td>https://www.huffingtonpost.com/entry/roseanne-...</td>\n",
              "      <td>the 'roseanne' revival catches up to our thorn...</td>\n",
              "      <td>0</td>\n",
              "    </tr>\n",
              "    <tr>\n",
              "      <th>2</th>\n",
              "      <td>https://local.theonion.com/mom-starting-to-fea...</td>\n",
              "      <td>mom starting to fear son's web series closest ...</td>\n",
              "      <td>1</td>\n",
              "    </tr>\n",
              "    <tr>\n",
              "      <th>3</th>\n",
              "      <td>https://politics.theonion.com/boehner-just-wan...</td>\n",
              "      <td>boehner just wants wife to listen, not come up...</td>\n",
              "      <td>1</td>\n",
              "    </tr>\n",
              "    <tr>\n",
              "      <th>4</th>\n",
              "      <td>https://www.huffingtonpost.com/entry/jk-rowlin...</td>\n",
              "      <td>j.k. rowling wishes snape happy birthday in th...</td>\n",
              "      <td>0</td>\n",
              "    </tr>\n",
              "  </tbody>\n",
              "</table>\n",
              "</div>"
            ],
            "text/plain": [
              "                                        article_link  ... is_sarcastic\n",
              "0  https://www.huffingtonpost.com/entry/versace-b...  ...            0\n",
              "1  https://www.huffingtonpost.com/entry/roseanne-...  ...            0\n",
              "2  https://local.theonion.com/mom-starting-to-fea...  ...            1\n",
              "3  https://politics.theonion.com/boehner-just-wan...  ...            1\n",
              "4  https://www.huffingtonpost.com/entry/jk-rowlin...  ...            0\n",
              "\n",
              "[5 rows x 3 columns]"
            ]
          },
          "metadata": {},
          "execution_count": 2
        }
      ]
    },
    {
      "cell_type": "code",
      "metadata": {
        "id": "GQ-hfy5kRGJY",
        "outputId": "f07837a3-ab95-46fc-9c54-ed86e6d815d8",
        "colab": {
          "base_uri": "https://localhost:8080/"
        }
      },
      "source": [
        "df.headline.values"
      ],
      "execution_count": 3,
      "outputs": [
        {
          "output_type": "execute_result",
          "data": {
            "text/plain": [
              "array([\"former versace store clerk sues over secret 'black code' for minority shoppers\",\n",
              "       \"the 'roseanne' revival catches up to our thorny political mood, for better and worse\",\n",
              "       \"mom starting to fear son's web series closest thing she will have to grandchild\",\n",
              "       ..., 'reparations and obama',\n",
              "       'israeli ban targeting boycott supporters raises alarm abroad',\n",
              "       'gourmet gifts for the foodie 2014'], dtype=object)"
            ]
          },
          "metadata": {},
          "execution_count": 3
        }
      ]
    },
    {
      "cell_type": "code",
      "metadata": {
        "id": "jGwXGIXvFhXW",
        "outputId": "0af7e7a2-4aab-4c7f-dcc9-63c35db48c55",
        "colab": {
          "base_uri": "https://localhost:8080/"
        }
      },
      "source": [
        "import numpy as np\n",
        "\n",
        "import json\n",
        "import tensorflow as tf\n",
        "\n",
        "from tensorflow.keras.preprocessing.text import Tokenizer\n",
        "from tensorflow.keras.preprocessing.sequence import pad_sequences\n",
        "\n",
        "# sarcasm.json\n",
        "# !gdown --id 1dRzdJS7-cZS4S5CuUc32MZYSLJGkkxnp\n",
        "\n",
        "vocab_size = 1000\n",
        "embedding_dim = 16\n",
        "max_length = 120\n",
        "trunc_type='post'\n",
        "padding_type='post'\n",
        "oov_tok = \"<OOV>\"\n",
        "training_size = 20000\n",
        "\n",
        "\n",
        "# with open(\"./sarcasm.json\", 'r') as f:\n",
        "#    datastore = json.load(f)\n",
        "\n",
        "\n",
        "sentences = []\n",
        "labels = []\n",
        "urls = []\n",
        "\n",
        "sentences = list(df.headline.values)\n",
        "labels = list(df.is_sarcastic.values)\n",
        "# for item in datastore:\n",
        "#    sentences.append(item['headline'])\n",
        "#    labels.append(item['is_sarcastic'])\n",
        "\n",
        "training_sentences = sentences[0:training_size]\n",
        "testing_sentences = sentences[training_size:]\n",
        "training_labels = labels[0:training_size]\n",
        "testing_labels = labels[training_size:]\n",
        "\n",
        "tokenizer = Tokenizer(num_words=vocab_size, oov_token=oov_tok)\n",
        "tokenizer.fit_on_texts(training_sentences)\n",
        "\n",
        "word_index = tokenizer.word_index\n",
        "\n",
        "training_sequences = tokenizer.texts_to_sequences(training_sentences)\n",
        "training_padded = pad_sequences(training_sequences, maxlen=max_length, padding=padding_type, truncating=trunc_type)\n",
        "\n",
        "testing_sequences = tokenizer.texts_to_sequences(testing_sentences)\n",
        "testing_padded = pad_sequences(testing_sequences, maxlen=max_length, padding=padding_type, truncating=trunc_type)\n",
        "\n",
        "model = tf.keras.Sequential([\n",
        "    tf.keras.layers.Embedding(vocab_size, embedding_dim, input_length=max_length),\n",
        "    tf.keras.layers.Bidirectional(tf.keras.layers.LSTM(32)),\n",
        "    tf.keras.layers.Dense(24, activation='relu'),\n",
        "    tf.keras.layers.Dense(1, activation='sigmoid')\n",
        "])\n",
        "model.compile(loss='binary_crossentropy',optimizer='adam',metrics=['accuracy'])\n",
        "model.summary()\n",
        "\n",
        "num_epochs = 50\n",
        "training_padded = np.array(training_padded)\n",
        "training_labels = np.array(training_labels)\n",
        "testing_padded = np.array(testing_padded)\n",
        "testing_labels = np.array(testing_labels)\n",
        "history = model.fit(training_padded, training_labels, epochs=num_epochs, validation_data=(testing_padded, testing_labels), verbose=1)\n"
      ],
      "execution_count": 4,
      "outputs": [
        {
          "output_type": "stream",
          "name": "stdout",
          "text": [
            "Model: \"sequential\"\n",
            "_________________________________________________________________\n",
            " Layer (type)                Output Shape              Param #   \n",
            "=================================================================\n",
            " embedding (Embedding)       (None, 120, 16)           16000     \n",
            "                                                                 \n",
            " bidirectional (Bidirectiona  (None, 64)               12544     \n",
            " l)                                                              \n",
            "                                                                 \n",
            " dense (Dense)               (None, 24)                1560      \n",
            "                                                                 \n",
            " dense_1 (Dense)             (None, 1)                 25        \n",
            "                                                                 \n",
            "=================================================================\n",
            "Total params: 30,129\n",
            "Trainable params: 30,129\n",
            "Non-trainable params: 0\n",
            "_________________________________________________________________\n",
            "Epoch 1/50\n",
            "625/625 [==============================] - 48s 63ms/step - loss: 0.4568 - accuracy: 0.7668 - val_loss: 0.3867 - val_accuracy: 0.8188\n",
            "Epoch 2/50\n",
            "625/625 [==============================] - 38s 62ms/step - loss: 0.3522 - accuracy: 0.8374 - val_loss: 0.3794 - val_accuracy: 0.8234\n",
            "Epoch 3/50\n",
            "625/625 [==============================] - 39s 62ms/step - loss: 0.3264 - accuracy: 0.8515 - val_loss: 0.3728 - val_accuracy: 0.8280\n",
            "Epoch 4/50\n",
            "625/625 [==============================] - 38s 61ms/step - loss: 0.3108 - accuracy: 0.8627 - val_loss: 0.3735 - val_accuracy: 0.8314\n",
            "Epoch 5/50\n",
            "625/625 [==============================] - 38s 62ms/step - loss: 0.3003 - accuracy: 0.8658 - val_loss: 0.3751 - val_accuracy: 0.8346\n",
            "Epoch 6/50\n",
            "625/625 [==============================] - 39s 62ms/step - loss: 0.2903 - accuracy: 0.8735 - val_loss: 0.3771 - val_accuracy: 0.8314\n",
            "Epoch 7/50\n",
            "625/625 [==============================] - 39s 62ms/step - loss: 0.2833 - accuracy: 0.8752 - val_loss: 0.3882 - val_accuracy: 0.8278\n",
            "Epoch 8/50\n",
            "625/625 [==============================] - 39s 62ms/step - loss: 0.2750 - accuracy: 0.8818 - val_loss: 0.3920 - val_accuracy: 0.8326\n",
            "Epoch 9/50\n",
            "625/625 [==============================] - 39s 62ms/step - loss: 0.2686 - accuracy: 0.8823 - val_loss: 0.3987 - val_accuracy: 0.8278\n",
            "Epoch 10/50\n",
            "625/625 [==============================] - 38s 62ms/step - loss: 0.2628 - accuracy: 0.8859 - val_loss: 0.4047 - val_accuracy: 0.8253\n",
            "Epoch 11/50\n",
            "625/625 [==============================] - 39s 62ms/step - loss: 0.2583 - accuracy: 0.8883 - val_loss: 0.4025 - val_accuracy: 0.8274\n",
            "Epoch 12/50\n",
            "625/625 [==============================] - 39s 62ms/step - loss: 0.2505 - accuracy: 0.8932 - val_loss: 0.4203 - val_accuracy: 0.8229\n",
            "Epoch 13/50\n",
            "625/625 [==============================] - 39s 62ms/step - loss: 0.2434 - accuracy: 0.8953 - val_loss: 0.4180 - val_accuracy: 0.8237\n",
            "Epoch 14/50\n",
            "625/625 [==============================] - 39s 62ms/step - loss: 0.2379 - accuracy: 0.8981 - val_loss: 0.4330 - val_accuracy: 0.8235\n",
            "Epoch 15/50\n",
            "625/625 [==============================] - 39s 62ms/step - loss: 0.2302 - accuracy: 0.9021 - val_loss: 0.4605 - val_accuracy: 0.8211\n",
            "Epoch 16/50\n",
            "625/625 [==============================] - 39s 62ms/step - loss: 0.2213 - accuracy: 0.9062 - val_loss: 0.4546 - val_accuracy: 0.8196\n",
            "Epoch 17/50\n",
            "625/625 [==============================] - 38s 61ms/step - loss: 0.2136 - accuracy: 0.9111 - val_loss: 0.4856 - val_accuracy: 0.8141\n",
            "Epoch 18/50\n",
            "625/625 [==============================] - 39s 62ms/step - loss: 0.2072 - accuracy: 0.9136 - val_loss: 0.5170 - val_accuracy: 0.8165\n",
            "Epoch 19/50\n",
            "625/625 [==============================] - 38s 61ms/step - loss: 0.1986 - accuracy: 0.9176 - val_loss: 0.5482 - val_accuracy: 0.8147\n",
            "Epoch 20/50\n",
            "625/625 [==============================] - 39s 62ms/step - loss: 0.1936 - accuracy: 0.9207 - val_loss: 0.5282 - val_accuracy: 0.8138\n",
            "Epoch 21/50\n",
            "625/625 [==============================] - 39s 62ms/step - loss: 0.1835 - accuracy: 0.9251 - val_loss: 0.5985 - val_accuracy: 0.8117\n",
            "Epoch 22/50\n",
            "625/625 [==============================] - 38s 61ms/step - loss: 0.1792 - accuracy: 0.9256 - val_loss: 0.5580 - val_accuracy: 0.8122\n",
            "Epoch 23/50\n",
            "625/625 [==============================] - 39s 62ms/step - loss: 0.1694 - accuracy: 0.9294 - val_loss: 0.6257 - val_accuracy: 0.8085\n",
            "Epoch 24/50\n",
            "625/625 [==============================] - 39s 62ms/step - loss: 0.1645 - accuracy: 0.9310 - val_loss: 0.6674 - val_accuracy: 0.8089\n",
            "Epoch 25/50\n",
            "625/625 [==============================] - 39s 62ms/step - loss: 0.1607 - accuracy: 0.9355 - val_loss: 0.6930 - val_accuracy: 0.8103\n",
            "Epoch 26/50\n",
            "625/625 [==============================] - 38s 62ms/step - loss: 0.1521 - accuracy: 0.9380 - val_loss: 0.7265 - val_accuracy: 0.8114\n",
            "Epoch 27/50\n",
            "625/625 [==============================] - 39s 62ms/step - loss: 0.1463 - accuracy: 0.9404 - val_loss: 0.7336 - val_accuracy: 0.8088\n",
            "Epoch 28/50\n",
            "625/625 [==============================] - 38s 61ms/step - loss: 0.1405 - accuracy: 0.9414 - val_loss: 0.7896 - val_accuracy: 0.8049\n",
            "Epoch 29/50\n",
            "625/625 [==============================] - 39s 62ms/step - loss: 0.1360 - accuracy: 0.9445 - val_loss: 0.8183 - val_accuracy: 0.8044\n",
            "Epoch 30/50\n",
            "625/625 [==============================] - 39s 62ms/step - loss: 0.1291 - accuracy: 0.9455 - val_loss: 0.8938 - val_accuracy: 0.7995\n",
            "Epoch 31/50\n",
            "625/625 [==============================] - 39s 62ms/step - loss: 0.1250 - accuracy: 0.9475 - val_loss: 0.9258 - val_accuracy: 0.8018\n",
            "Epoch 32/50\n",
            "625/625 [==============================] - 38s 61ms/step - loss: 0.1178 - accuracy: 0.9510 - val_loss: 0.9454 - val_accuracy: 0.8067\n",
            "Epoch 33/50\n",
            "625/625 [==============================] - 39s 62ms/step - loss: 0.1158 - accuracy: 0.9506 - val_loss: 0.9842 - val_accuracy: 0.8035\n",
            "Epoch 34/50\n",
            "625/625 [==============================] - 38s 61ms/step - loss: 0.1155 - accuracy: 0.9513 - val_loss: 1.0125 - val_accuracy: 0.7964\n",
            "Epoch 35/50\n",
            "625/625 [==============================] - 39s 62ms/step - loss: 0.1048 - accuracy: 0.9552 - val_loss: 1.0890 - val_accuracy: 0.8044\n",
            "Epoch 36/50\n",
            "625/625 [==============================] - 39s 62ms/step - loss: 0.0974 - accuracy: 0.9586 - val_loss: 1.1889 - val_accuracy: 0.8025\n",
            "Epoch 37/50\n",
            "625/625 [==============================] - 39s 62ms/step - loss: 0.0955 - accuracy: 0.9596 - val_loss: 1.2286 - val_accuracy: 0.7962\n",
            "Epoch 38/50\n",
            "625/625 [==============================] - 39s 62ms/step - loss: 0.0916 - accuracy: 0.9596 - val_loss: 1.2122 - val_accuracy: 0.7998\n",
            "Epoch 39/50\n",
            "625/625 [==============================] - 39s 62ms/step - loss: 0.0901 - accuracy: 0.9610 - val_loss: 1.2530 - val_accuracy: 0.7988\n",
            "Epoch 40/50\n",
            "625/625 [==============================] - 39s 62ms/step - loss: 0.0835 - accuracy: 0.9623 - val_loss: 1.2977 - val_accuracy: 0.8027\n",
            "Epoch 41/50\n",
            "625/625 [==============================] - 39s 62ms/step - loss: 0.0854 - accuracy: 0.9622 - val_loss: 1.4056 - val_accuracy: 0.7995\n",
            "Epoch 42/50\n",
            "625/625 [==============================] - 39s 62ms/step - loss: 0.0826 - accuracy: 0.9635 - val_loss: 1.3957 - val_accuracy: 0.7943\n",
            "Epoch 43/50\n",
            "625/625 [==============================] - 39s 62ms/step - loss: 0.0766 - accuracy: 0.9660 - val_loss: 1.3860 - val_accuracy: 0.7976\n",
            "Epoch 44/50\n",
            "625/625 [==============================] - 39s 62ms/step - loss: 0.0783 - accuracy: 0.9647 - val_loss: 1.4688 - val_accuracy: 0.8024\n",
            "Epoch 45/50\n",
            "625/625 [==============================] - 39s 62ms/step - loss: 0.0730 - accuracy: 0.9691 - val_loss: 1.5086 - val_accuracy: 0.7986\n",
            "Epoch 46/50\n",
            "625/625 [==============================] - 39s 62ms/step - loss: 0.0699 - accuracy: 0.9680 - val_loss: 1.5671 - val_accuracy: 0.7968\n",
            "Epoch 47/50\n",
            "625/625 [==============================] - 39s 62ms/step - loss: 0.0656 - accuracy: 0.9696 - val_loss: 1.6432 - val_accuracy: 0.7961\n",
            "Epoch 48/50\n",
            "625/625 [==============================] - 39s 62ms/step - loss: 0.0691 - accuracy: 0.9686 - val_loss: 1.6789 - val_accuracy: 0.7980\n",
            "Epoch 49/50\n",
            "625/625 [==============================] - 39s 62ms/step - loss: 0.0667 - accuracy: 0.9699 - val_loss: 1.7110 - val_accuracy: 0.7959\n",
            "Epoch 50/50\n",
            "625/625 [==============================] - 39s 62ms/step - loss: 0.0620 - accuracy: 0.9713 - val_loss: 1.7463 - val_accuracy: 0.7959\n"
          ]
        }
      ]
    },
    {
      "cell_type": "code",
      "metadata": {
        "id": "g9DC6dmLF8DC",
        "outputId": "bd596d46-a350-49e3-ea9d-ed2da57a421f",
        "colab": {
          "base_uri": "https://localhost:8080/",
          "height": 541
        }
      },
      "source": [
        "import matplotlib.pyplot as plt\n",
        "\n",
        "\n",
        "def plot_graphs(history, string):\n",
        "  plt.plot(history.history[string])\n",
        "  plt.plot(history.history['val_'+string])\n",
        "  plt.xlabel(\"Epochs\")\n",
        "  plt.ylabel(string)\n",
        "  plt.legend([string, 'val_'+string])\n",
        "  plt.show()\n",
        "\n",
        "plot_graphs(history, 'accuracy')\n",
        "plot_graphs(history, 'loss')"
      ],
      "execution_count": 5,
      "outputs": [
        {
          "output_type": "display_data",
          "data": {
            "image/png": "[encoded data removed]",
            "text/plain": [
              "<Figure size 432x288 with 1 Axes>"
            ]
          },
          "metadata": {
            "needs_background": "light"
          }
        },
        {
          "output_type": "display_data",
          "data": {
            "image/png": "[encoded data removed]",
            "text/plain": [
              "<Figure size 432x288 with 1 Axes>"
            ]
          },
          "metadata": {
            "needs_background": "light"
          }
        }
      ]
    },
    {
      "cell_type": "code",
      "metadata": {
        "id": "7ZEZIUppGhdi"
      },
      "source": [
        "model.save(\"test.h5\")"
      ],
      "execution_count": 6,
      "outputs": []
    }
  ]
}