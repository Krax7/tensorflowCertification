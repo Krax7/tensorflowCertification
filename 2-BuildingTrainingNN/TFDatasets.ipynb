{
 "cells": [
  {
   "cell_type": "markdown",
   "source": [
    "# TensorFlow Datasets"
   ],
   "metadata": {}
  },
  {
   "cell_type": "markdown",
   "source": [
    "## Instalación de tf.datasets"
   ],
   "metadata": {}
  },
  {
   "cell_type": "markdown",
   "source": [
    "Antes de comenzar, aprenderemos un poco sobre cómo obtener conjuntos de datos con la librería TFDS (TensorFlow Datasets).\r\n",
    "\r\n",
    "Puedes consultar la documentación oficial [aquí](https://www.tensorflow.org/datasets/overview)"
   ],
   "metadata": {}
  },
  {
   "cell_type": "markdown",
   "source": [
    "TFDS existe en dos paquetes:\r\n",
    "\r\n",
    "- `pip install tensorflow-datasets`: la versión estable, lanzada cada pocos meses.\r\n",
    "- `pip install tfds-nightly`: Lanzado todos los días, contiene las últimas versiones de los conjuntos de datos.\r\n",
    "\r\n",
    "Este notebook usa tfds-nightly:"
   ],
   "metadata": {}
  },
  {
   "cell_type": "code",
   "execution_count": null,
   "source": [
    "!pip install -q tfds-nightly"
   ],
   "outputs": [],
   "metadata": {}
  },
  {
   "cell_type": "code",
   "execution_count": null,
   "source": [
    "import matplotlib as plt\r\n",
    "import numpy as np\r\n",
    "import tensorflow as tf\r\n",
    "import pandas\r\n",
    "\r\n",
    "import tensorflow_datasets as tfds"
   ],
   "outputs": [],
   "metadata": {}
  },
  {
   "cell_type": "markdown",
   "source": [
    "## Conjuntos de datos disponibles"
   ],
   "metadata": {}
  },
  {
   "cell_type": "markdown",
   "source": [
    "Todos los creadores de conjuntos de datos son subclase de `tfds.core.DatasetBuilder`. Para obtener la lista de constructores disponibles, use `tfds.list_builders()`"
   ],
   "metadata": {}
  },
  {
   "cell_type": "code",
   "execution_count": null,
   "source": [
    "tfds.list_builders()"
   ],
   "outputs": [],
   "metadata": {}
  },
  {
   "cell_type": "markdown",
   "source": [
    "## Cargar un conjunto de datos"
   ],
   "metadata": {}
  },
  {
   "cell_type": "markdown",
   "source": [
    "### tfds.load"
   ],
   "metadata": {}
  },
  {
   "cell_type": "markdown",
   "source": [
    "La forma más sencilla de cargar un conjunto de datos es tfds.load. Va a:\r\n",
    "1. Descargar los datos y guardarlos como archivos `tfrecord`.\r\n",
    "2. Cargar el `tfrecord` y crear el `tf.data.Dataset`."
   ],
   "metadata": {}
  },
  {
   "cell_type": "code",
   "execution_count": null,
   "source": [
    "ds = tfds.load('mnist', split='train', shuffle_files=True)\r\n",
    "assert isinstance(ds, tf.data.Dataset)\r\n",
    "print(ds)"
   ],
   "outputs": [],
   "metadata": {}
  },
  {
   "cell_type": "markdown",
   "source": [
    "- `split=`: Qué división leer (por ejemplo `'train'`, `['train', 'test']`, `train[80%]`, ...).\r\n",
    "- `shuffle_files=`: Controla si mezclar los archivos entre cada época (TFDS almacena grandes conjuntos de datos en varios archivos más pequeños).\r\n",
    "- `data_dir=`: Ubicación donde se guarda el conjunto de datos (por defecto es `~/tensorflow_datasets/`).\r\n",
    "`with_info=True`: Devuelve el `tfds.core.DatasetInfo` contiene los metadatos del conjunto de datos.\r\n",
    "`download=False`: deshabilitar la descarga."
   ],
   "metadata": {}
  },
  {
   "cell_type": "markdown",
   "source": [
    "### tfds.builder"
   ],
   "metadata": {}
  },
  {
   "cell_type": "markdown",
   "source": [
    "Una alternativa a utilizar tdfs.load es utilizar la API tfds.core.DatasetBuilder:"
   ],
   "metadata": {}
  },
  {
   "cell_type": "code",
   "execution_count": null,
   "source": [
    "builder = tfds.builder('mnist')\r\n",
    "# 1. Create the tfrecord files (no-op if already exists)\r\n",
    "builder.download_and_prepare()\r\n",
    "# 2. Load the `tf.data.Dataset`\r\n",
    "ds = builder.as_dataset(split='train', shuffle_files=True)\r\n",
    "print(ds)"
   ],
   "outputs": [],
   "metadata": {}
  },
  {
   "cell_type": "markdown",
   "source": [
    "## Iterar sobre el conjunto de datos"
   ],
   "metadata": {}
  },
  {
   "cell_type": "markdown",
   "source": [
    "### Como diccionario"
   ],
   "metadata": {}
  },
  {
   "cell_type": "markdown",
   "source": [
    "Por defecto, el objeto `tf.data.Dataset` contiene un `diccionario` de `tf.Tensor`"
   ],
   "metadata": {}
  },
  {
   "cell_type": "code",
   "execution_count": null,
   "source": [
    "ds = tfds.load('mnist', split='train')\r\n",
    "ds = ds.take(1)  # Only take a single example\r\n",
    "\r\n",
    "for example in ds:  # example is `{'image': tf.Tensor, 'label': tf.Tensor}`\r\n",
    "  print(list(example.keys()))\r\n",
    "  image = example[\"image\"]\r\n",
    "  label = example[\"label\"]\r\n",
    "  print(image.shape, label)"
   ],
   "outputs": [],
   "metadata": {}
  },
  {
   "cell_type": "markdown",
   "source": [
    "### Como una tupla (as_supervised=True)"
   ],
   "metadata": {}
  },
  {
   "cell_type": "markdown",
   "source": [
    "Utilizando `as_supervised=True`, puedes obtener una tupla `(features, label)` para datasets supervisados."
   ],
   "metadata": {}
  },
  {
   "cell_type": "code",
   "execution_count": null,
   "source": [
    "ds = tfds.load('mnist', split='train', as_supervised=True)\r\n",
    "ds = ds.take(1)\r\n",
    "\r\n",
    "for image, label in ds:  # example is (image, label)\r\n",
    "  print(image.shape, label)"
   ],
   "outputs": [],
   "metadata": {}
  },
  {
   "cell_type": "markdown",
   "source": [
    "### Como numpy (tfds.as_numpy)"
   ],
   "metadata": {}
  },
  {
   "cell_type": "code",
   "execution_count": null,
   "source": [
    "ds = tfds.load('mnist', split='train', as_supervised=True)\r\n",
    "ds = ds.take(1)\r\n",
    "\r\n",
    "for image, label in tfds.as_numpy(ds):\r\n",
    "  print(type(image), type(label), label)"
   ],
   "outputs": [],
   "metadata": {}
  },
  {
   "cell_type": "markdown",
   "source": [
    "### Como batched tf.Tensor (batch_size=-1)"
   ],
   "metadata": {}
  },
  {
   "cell_type": "code",
   "execution_count": null,
   "source": [
    "image, label = tfds.as_numpy(tfds.load(\r\n",
    "    'mnist',\r\n",
    "    split='test',\r\n",
    "    batch_size=-1,\r\n",
    "    as_supervised=True,\r\n",
    "))\r\n",
    "\r\n",
    "print(type(image), image.shape)"
   ],
   "outputs": [],
   "metadata": {}
  },
  {
   "cell_type": "markdown",
   "source": [
    "Asegúrate de que tu dataset quepa en memoria, y que todos los ejemplos tengan la misma forma."
   ],
   "metadata": {}
  },
  {
   "cell_type": "markdown",
   "source": [
    "## Visualización"
   ],
   "metadata": {}
  },
  {
   "cell_type": "markdown",
   "source": [
    "### tfds.as_dataframe\r\n",
    "\r\n",
    "Los objetos `tf.data.Dataset` pueden ser convertidos a `pandas.DataFrame` con `tfds.as_dataframe` para ser visualizados en un notebook, por ejemplo."
   ],
   "metadata": {}
  },
  {
   "cell_type": "markdown",
   "source": [
    "- Añade `tfds.core.DatasetInfo` como segundo argumento de `tfds.as_dataframe` para visualizar imágenes, audios, textos, videos, ...\r\n",
    "- Utiliza `ds.take(x)` para mostrar únicamente los primeros `x` ejemplos. `pandas.DataFrame` cargará todo el dataset en memoria y podría ser difícil de mostrar."
   ],
   "metadata": {}
  },
  {
   "cell_type": "code",
   "execution_count": null,
   "source": [
    "ds, info = tfds.load('mnist', split='train', with_info=True)\r\n",
    "\r\n",
    "tfds.as_dataframe(ds.take(4))"
   ],
   "outputs": [],
   "metadata": {}
  },
  {
   "cell_type": "markdown",
   "source": [
    "### tfds.show_examples"
   ],
   "metadata": {}
  },
  {
   "cell_type": "code",
   "execution_count": null,
   "source": [
    "ds, info = tfds.load('mnist', split='train', with_info=True)\r\n",
    "\r\n",
    "fig = tfds.show_examples(ds, info)"
   ],
   "outputs": [],
   "metadata": {}
  },
  {
   "cell_type": "markdown",
   "source": [
    "## Descargar los datasets manualmente"
   ],
   "metadata": {}
  },
  {
   "cell_type": "markdown",
   "source": [
    "Si algo falla y no puede descargar los datos con `tf.datasets`, siempre puede consultar las URL de descarga directa en este [catálogo](https://www.tensorflow.org/datasets/catalog/overview)."
   ],
   "metadata": {}
  }
 ],
 "metadata": {
  "orig_nbformat": 4,
  "language_info": {
   "name": "python",
   "version": "3.8.0",
   "mimetype": "text/x-python",
   "codemirror_mode": {
    "name": "ipython",
    "version": 3
   },
   "pygments_lexer": "ipython3",
   "nbconvert_exporter": "python",
   "file_extension": ".py"
  },
  "kernelspec": {
   "name": "python3",
   "display_name": "Python 3.8.0 64-bit ('tensorflowCertification-g0xU6U4H': pipenv)"
  },
  "interpreter": {
   "hash": "5a0752da3053b84f5c190f28b54aad6c7460a88b6573662b0727913cd6c3acb6"
  }
 },
 "nbformat": 4,
 "nbformat_minor": 2
}