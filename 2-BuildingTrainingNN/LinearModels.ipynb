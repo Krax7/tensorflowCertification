{
 "cells": [
  {
   "cell_type": "markdown",
   "source": [
    "# Transformar datos de un tipo de datos a otro"
   ],
   "metadata": {}
  },
  {
   "cell_type": "code",
   "execution_count": null,
   "source": [
    "# Import numpy and tensorflow with their standard aliases\r\n",
    "import numpy as np\r\n",
    "import tensorflow as tf\r\n",
    "\r\n",
    "# Use a numpy array to define price as a 32-bit float\r\n",
    "price = np.array(housing['price'], np.float32)\r\n",
    "\r\n",
    "# Define waterfront as a Boolean using cast\r\n",
    "waterfront = tf.cast(housing['waterfront'], tf.bool)\r\n",
    "\r\n",
    "# Print price and waterfront\r\n",
    "print(price)\r\n",
    "print(waterfront)"
   ],
   "outputs": [],
   "metadata": {}
  }
 ],
 "metadata": {
  "orig_nbformat": 4,
  "language_info": {
   "name": "python"
  }
 },
 "nbformat": 4,
 "nbformat_minor": 2
}