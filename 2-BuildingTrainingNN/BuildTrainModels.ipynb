{
 "cells": [
  {
   "cell_type": "markdown",
   "source": [
    "# Construir, compilar y entrenar modelos de Machine Learning con TensorFlow"
   ],
   "metadata": {}
  },
  {
   "cell_type": "code",
   "execution_count": null,
   "source": [],
   "outputs": [],
   "metadata": {}
  },
  {
   "cell_type": "markdown",
   "source": [
    "# Preprocesar información para tenerla lista y utilizarla en un modelo."
   ],
   "metadata": {}
  },
  {
   "cell_type": "code",
   "execution_count": null,
   "source": [
    "# Import constant from TensorFlow\r\n",
    "from tensorflow import constant\r\n",
    "\r\n",
    "# Convert the credit_numpy array into a tensorflow constant\r\n",
    "credit_constant = constant(credit_numpy)\r\n",
    "\r\n",
    "# Print constant datatype\r\n",
    "print('\\n The datatype is:', credit_constant.dtype)\r\n",
    "\r\n",
    "# Print constant shape\r\n",
    "print('\\n The shape is:', credit_constant.shape)\r\n",
    "\r\n",
    "# Define the 1-dimensional variable A1\r\n",
    "A1 = Variable([1, 2, 3, 4])\r\n",
    "\r\n",
    "# Print the variable A1\r\n",
    "print('\\n A1: ', A1)\r\n",
    "\r\n",
    "# Convert A1 to a numpy array and assign it to B1\r\n",
    "B1 = A1.numpy()\r\n",
    "\r\n",
    "# Print B1\r\n",
    "print('\\n B1: ', B1)"
   ],
   "outputs": [],
   "metadata": {}
  },
  {
   "cell_type": "code",
   "execution_count": null,
   "source": [
    "# Define tensors A1 and A23 as constants\r\n",
    "A1 = constant([1, 2, 3, 4])\r\n",
    "A23 = constant([[1, 2, 3], [1, 6, 4]])\r\n",
    "\r\n",
    "# Define B1 and B23 to have the correct shape\r\n",
    "B1 = ones_like(A1)\r\n",
    "B23 = ones_like(A23)\r\n",
    "\r\n",
    "# Perform element-wise multiplication\r\n",
    "C1 = multiply(A1,B1)\r\n",
    "C23 = multiply(A23, B23)\r\n",
    "\r\n",
    "# Print the tensors C1 and C23\r\n",
    "print('\\n C1: {}'.format(C1.numpy()))\r\n",
    "print('\\n C23: {}'.format(C23.numpy()))"
   ],
   "outputs": [],
   "metadata": {}
  },
  {
   "cell_type": "markdown",
   "source": [
    "## Making predictions with matrix multiplication"
   ],
   "metadata": {}
  },
  {
   "cell_type": "code",
   "execution_count": null,
   "source": [
    "# Define features, params, and bill as constants\r\n",
    "features = constant([[2, 24], [2, 26], [2, 57], [1, 37]])\r\n",
    "params = constant([[1000], [150]])\r\n",
    "bill = constant([[3913], [2682], [8617], [64400]])\r\n",
    "\r\n",
    "# Compute billpred using features and params\r\n",
    "billpred = matmul(features, params)\r\n",
    "\r\n",
    "# Compute and print the error\r\n",
    "error = bill - billpred\r\n",
    "print(error.numpy())"
   ],
   "outputs": [],
   "metadata": {}
  },
  {
   "cell_type": "markdown",
   "source": [
    "## Transformar datos de entrada"
   ],
   "metadata": {}
  },
  {
   "cell_type": "code",
   "execution_count": null,
   "source": [
    "# Reshape the grayscale image tensor into a vector\r\n",
    "gray_vector = reshape(gray_tensor, (784, 1))\r\n",
    "\r\n",
    "# Reshape the color image tensor into a vector\r\n",
    "color_vector = reshape(color_tensor, (2352, 1))"
   ],
   "outputs": [],
   "metadata": {}
  },
  {
   "cell_type": "markdown",
   "source": [
    "## Optimizando con gradientes"
   ],
   "metadata": {}
  },
  {
   "cell_type": "code",
   "execution_count": null,
   "source": [
    "def compute_gradient(x0):\r\n",
    "  \t# Define x as a variable with an initial value of x0\r\n",
    "\tx = Variable(x0)\r\n",
    "\twith GradientTape() as tape:\r\n",
    "\t\ttape.watch(x)\r\n",
    "        # Define y using the multiply operation\r\n",
    "\t\ty = multiply(x, x)\r\n",
    "    # Return the gradient of y with respect to x\r\n",
    "\treturn tape.gradient(y, x).numpy()\r\n",
    "\r\n",
    "# Compute and print gradients at x = -1, 1, and 0\r\n",
    "print(compute_gradient(-1.0))\r\n",
    "print(compute_gradient(1.0))\r\n",
    "print(compute_gradient(0.0))"
   ],
   "outputs": [],
   "metadata": {}
  },
  {
   "cell_type": "markdown",
   "source": [
    "## Trabajando con datos de imágenes"
   ],
   "metadata": {}
  },
  {
   "cell_type": "code",
   "execution_count": null,
   "source": [
    "# Reshape model from a 1x3 to a 3x1 tensor\r\n",
    "model = reshape(model, (3, 1))\r\n",
    "\r\n",
    "# Multiply letter by model\r\n",
    "output = matmul(letter, model)\r\n",
    "\r\n",
    "# Sum over output and print prediction using the numpy method\r\n",
    "prediction = reduce_sum(output)\r\n",
    "print(prediction.numpy())"
   ],
   "outputs": [],
   "metadata": {}
  }
 ],
 "metadata": {
  "orig_nbformat": 4,
  "language_info": {
   "name": "python"
  }
 },
 "nbformat": 4,
 "nbformat_minor": 2
}