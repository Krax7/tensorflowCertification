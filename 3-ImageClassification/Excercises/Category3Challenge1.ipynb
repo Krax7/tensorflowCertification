{
  "nbformat": 4,
  "nbformat_minor": 0,
  "metadata": {
    "colab": {
      "name": "Category3Challenge1.ipynb",
      "provenance": []
    },
    "kernelspec": {
      "name": "python3",
      "display_name": "Python 3"
    },
    "language_info": {
      "name": "python"
    }
  },
  "cells": [
    {
      "cell_type": "code",
      "execution_count": null,
      "metadata": {
        "id": "sdX2vyDZocOR"
      },
      "outputs": [],
      "source": [
        "import tensorflow as tf\n",
        "import urllib\n",
        "import zipfile\n",
        "from tensorflow.keras.preprocessing.image import ImageDataGenerator\n",
        "import os\n",
        "from tensorflow.keras.optimizers import RMSprop\n",
        "from tensorflow.keras import Model\n",
        "\n",
        "# Crea un callback para detener el entrenamiento cuando llegue al 95%\n",
        "# Your code here\n",
        "\n",
        "def get_data():\n",
        "    _TRAIN_URL = \"https://storage.googleapis.com/download.tensorflow.org/data/horse-or-human.zip\"\n",
        "    _TEST_URL = \"https://storage.googleapis.com/download.tensorflow.org/data/validation-horse-or-human.zip\"\n",
        "    urllib.request.urlretrieve(_TRAIN_URL, 'horse-or-human.zip')\n",
        "    local_zip = 'horse-or-human.zip'\n",
        "    zip_ref = zipfile.ZipFile(local_zip, 'r')\n",
        "    zip_ref.extractall('data/horse-or-human/')\n",
        "    zip_ref.close()\n",
        "    urllib.request.urlretrieve(_TEST_URL, 'testdata.zip')\n",
        "    local_zip = 'testdata.zip'\n",
        "    zip_ref = zipfile.ZipFile(local_zip, 'r')\n",
        "    zip_ref.extractall('data/testdata/')\n",
        "    zip_ref.close()\n",
        "\n",
        "def solution_model():\n",
        "    train_dir = 'data/horse-or-human'\n",
        "    validation_dir = 'data/testdata'\n",
        "\n",
        "    print('total training horses images :', len(os.listdir(os.path.join(train_dir, 'horses'))))\n",
        "    print('total training humans images :', len(os.listdir(os.path.join(train_dir, 'humans'))))\n",
        "    print('total validation horses images :', len(os.listdir(os.path.join(validation_dir, 'horses'))))\n",
        "    print('total validation humans images :', len(os.listdir(os.path.join(validation_dir, 'humans'))))\n",
        "\n",
        "    # Carga los datos mediante ImageDataGenerator\n",
        "    # Your code here\n",
        "\n",
        "    model = tf.keras.models.Sequential([\n",
        "        # Note the input shape specified on your first layer must be (300,300,3)\n",
        "        # Your Code here\n",
        "        \n",
        "    ])\n",
        "\n",
        "    model.compile(loss='binary_crossentropy',\n",
        "                  optimizer=RMSprop(lr=1e-4),\n",
        "                  metrics=['accuracy'])\n",
        "\n",
        "    callbacks = myCallback()\n",
        "    model.fit(train_generator,\n",
        "              epochs=10,\n",
        "              steps_per_epoch=20,\n",
        "              validation_data=validation_generator,\n",
        "              verbose=1,\n",
        "              validation_steps=10,\n",
        "              callbacks=[callbacks])\n",
        "\n",
        "    return model"
      ]
    },
    {
      "cell_type": "code",
      "source": [
        "if __name__ == '__main__':\n",
        "    model = solution_model()"
      ],
      "metadata": {
        "id": "LOPiTvmKpho-"
      },
      "execution_count": null,
      "outputs": []
    }
  ]
}