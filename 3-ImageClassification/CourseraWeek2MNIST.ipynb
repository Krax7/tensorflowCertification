{
 "cells": [
  {
   "cell_type": "markdown",
   "source": [
    "## Exercise 2\n",
    "In the course you learned how to do classificaiton using Fashion MNIST, a data set containing items of clothing. There's another, similar dataset called MNIST which has items of handwriting -- the digits 0 through 9.\n",
    "\n",
    "Write an MNIST classifier that trains to 99% accuracy or above, and does it without a fixed number of epochs -- i.e. you should stop training once you reach that level of accuracy.\n",
    "\n",
    "Some notes:\n",
    "1. It should succeed in less than 10 epochs, so it is okay to change epochs= to 10, but nothing larger\n",
    "2. When it reaches 99% or greater it should print out the string \"Reached 99% accuracy so cancelling training!\"\n",
    "3. If you add any additional variables, make sure you use the same names as the ones used in the class\n",
    "\n",
    "I've started the code for you below -- how would you finish it? "
   ],
   "metadata": {
    "colab_type": "text",
    "id": "tOoyQ70H00_s"
   }
  },
  {
   "cell_type": "code",
   "execution_count": 11,
   "source": [
    "import tensorflow as tf\r\n",
    "from os import path, getcwd, chdir\r\n",
    "\r\n",
    "# DO NOT CHANGE THE LINE BELOW. If you are developing in a local\r\n",
    "# environment, then grab mnist.npz from the Coursera Jupyter Notebook\r\n",
    "# and place it inside a local folder and edit the path to that location\r\n",
    "path = f\"{getcwd()}\\\\data\\\\mnist.npz\""
   ],
   "outputs": [],
   "metadata": {}
  },
  {
   "cell_type": "code",
   "execution_count": 18,
   "source": [
    "# GRADED FUNCTION: train_mnist\r\n",
    "def train_mnist():\r\n",
    "    # Please write your code only where you are indicated.\r\n",
    "    # please do not remove # model fitting inline comments.\r\n",
    "\r\n",
    "    # YOUR CODE SHOULD START HERE\r\n",
    "    class myCallback(tf.keras.callbacks.Callback):\r\n",
    "        def on_epoch_end(self, epoch, logs={}):\r\n",
    "            print(logs)\r\n",
    "            if(logs.get('accuracy')>0.99): # A veces se llama 'acc', depende de la versión de TensorFlow\r\n",
    "                print('Reached 99% accuracy so cancelling training!')\r\n",
    "                self.model.stop_training = True\r\n",
    "\r\n",
    "    # YOUR CODE SHOULD END HERE\r\n",
    "\r\n",
    "    mnist = tf.keras.datasets.mnist\r\n",
    "\r\n",
    "    (x_train, y_train),(x_test, y_test) = mnist.load_data(path=path)\r\n",
    "    # YOUR CODE SHOULD START HERE\r\n",
    "    x_train = x_train / 255.0\r\n",
    "    x_test = x_test / 255.0\r\n",
    "    \r\n",
    "    callbacks = myCallback()\r\n",
    "    \r\n",
    "    # YOUR CODE SHOULD END HERE\r\n",
    "    model = tf.keras.models.Sequential([\r\n",
    "        # YOUR CODE SHOULD START HERE\r\n",
    "        tf.keras.layers.Flatten(input_shape=(28,28)),\r\n",
    "        tf.keras.layers.Dense(512, tf.nn.relu),\r\n",
    "        tf.keras.layers.Dense(10, tf.nn.softmax)\r\n",
    "        # YOUR CODE SHOULD END HERE\r\n",
    "    ])\r\n",
    "\r\n",
    "    model.compile(optimizer='adam',\r\n",
    "                  loss='sparse_categorical_crossentropy',\r\n",
    "                  metrics=['accuracy'])\r\n",
    "    \r\n",
    "    # model fitting\r\n",
    "    history = model.fit(# YOUR CODE SHOULD START HERE\r\n",
    "        x_train, y_train, callbacks=[callbacks], epochs=10\r\n",
    "              # YOUR CODE SHOULD END HERE\r\n",
    "    )\r\n",
    "    # model fitting\r\n",
    "    return history.epoch, history.history['accuracy'][-1]"
   ],
   "outputs": [],
   "metadata": {
    "colab": {},
    "colab_type": "code",
    "id": "9rvXQGAA0ssC"
   }
  },
  {
   "cell_type": "code",
   "execution_count": 19,
   "source": [
    "train_mnist()"
   ],
   "outputs": [
    {
     "output_type": "stream",
     "name": "stdout",
     "text": [
      "Epoch 1/10\n",
      "1875/1875 [==============================] - 4s 2ms/step - loss: 0.3328 - accuracy: 0.9023\n",
      "{'loss': 0.20156170427799225, 'accuracy': 0.9402833580970764}\n",
      "Epoch 2/10\n",
      "1875/1875 [==============================] - 3s 2ms/step - loss: 0.0820 - accuracy: 0.9756\n",
      "{'loss': 0.0811946913599968, 'accuracy': 0.9759166836738586}\n",
      "Epoch 3/10\n",
      "1875/1875 [==============================] - 3s 2ms/step - loss: 0.0503 - accuracy: 0.9842\n",
      "{'loss': 0.05198419466614723, 'accuracy': 0.9837499856948853}\n",
      "Epoch 4/10\n",
      "1875/1875 [==============================] - 4s 2ms/step - loss: 0.0331 - accuracy: 0.9897\n",
      "{'loss': 0.037724513560533524, 'accuracy': 0.9880666732788086}\n",
      "Epoch 5/10\n",
      "1875/1875 [==============================] - 4s 2ms/step - loss: 0.0233 - accuracy: 0.9929\n",
      "{'loss': 0.02638472616672516, 'accuracy': 0.9915333390235901}\n",
      "Reached 99% accuracy so cancelling training!\n"
     ]
    },
    {
     "output_type": "execute_result",
     "data": {
      "text/plain": [
       "([0, 1, 2, 3, 4], 0.9915333390235901)"
      ]
     },
     "metadata": {},
     "execution_count": 19
    }
   ],
   "metadata": {
    "colab": {},
    "colab_type": "code",
    "id": "9rvXQGAA0ssC"
   }
  }
 ],
 "metadata": {
  "coursera": {
   "course_slug": "introduction-tensorflow",
   "graded_item_id": "d6dew",
   "launcher_item_id": "FExZ4"
  },
  "kernelspec": {
   "name": "python3",
   "display_name": "Python 3.8.0 64-bit ('tensorflowCertification-g0xU6U4H': pipenv)"
  },
  "language_info": {
   "name": "python",
   "version": "3.8.0",
   "mimetype": "text/x-python",
   "codemirror_mode": {
    "name": "ipython",
    "version": 3
   },
   "pygments_lexer": "ipython3",
   "nbconvert_exporter": "python",
   "file_extension": ".py"
  },
  "interpreter": {
   "hash": "5a0752da3053b84f5c190f28b54aad6c7460a88b6573662b0727913cd6c3acb6"
  }
 },
 "nbformat": 4,
 "nbformat_minor": 1
}