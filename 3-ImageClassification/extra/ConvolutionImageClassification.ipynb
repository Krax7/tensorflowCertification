{
 "cells": [
  {
   "cell_type": "markdown",
   "metadata": {},
   "source": [
    "# Convolución"
   ]
  },
  {
   "cell_type": "markdown",
   "metadata": {},
   "source": [
    "![image]('./img/conv2D.png')"
   ]
  },
  {
   "cell_type": "code",
   "execution_count": 1,
   "metadata": {},
   "outputs": [],
   "source": [
    "import numpy as np"
   ]
  },
  {
   "cell_type": "markdown",
   "metadata": {},
   "source": [
    "## Convolución en 1 dimensión"
   ]
  },
  {
   "cell_type": "markdown",
   "metadata": {},
   "source": [
    "Una convolución de una matriz unidimensional con un kernel consiste en tomar el kernel, deslizarlo a lo largo de la matriz, multiplicarlo con los elementos de la matriz que se superponen con el kernel en esa ubicación y sumar este producto."
   ]
  },
  {
   "cell_type": "code",
   "execution_count": 2,
   "metadata": {},
   "outputs": [
    {
     "name": "stdout",
     "output_type": "stream",
     "text": [
      "[ 1 -1  1 -1  1 -1  1 -1  0  0]\n"
     ]
    }
   ],
   "source": [
    "array = np.array([1, 0, 1, 0, 1, 0, 1, 0, 1, 0])\n",
    "kernel = np.array([1, -1, 0])\n",
    "conv = np.array([0, 0, 0, 0, 0, 0, 0, 0, 0, 0])\n",
    "\n",
    "# Output array\n",
    "for ii in range(8):\n",
    "    conv[ii] = (kernel * array[ii:ii+3]).sum()\n",
    "\n",
    "# Print conv\n",
    "print(conv)"
   ]
  },
  {
   "cell_type": "markdown",
   "metadata": {},
   "source": [
    "## Convolución sobre una imagen"
   ]
  },
  {
   "cell_type": "code",
   "execution_count": null,
   "metadata": {},
   "outputs": [],
   "source": [
    "\"\"\"\n",
    "Este código no funcionará hasta que carguemos una imagen en B/N en 'im'\n",
    "\"\"\"\n",
    "\n",
    "kernel = np.array([[0, 1, 0], [1, 1, 1], [0, 1, 0]])\n",
    "result = np.zeros(im.shape)\n",
    "\n",
    "# Output array\n",
    "for ii in range(im.shape[0] - 3):\n",
    "    for jj in range(im.shape[1] - 3):\n",
    "        result[ii, jj] = (im[ii:ii+3, jj:jj+3] * kernel).sum()\n",
    "\n",
    "# Print result\n",
    "print(result)"
   ]
  },
  {
   "cell_type": "markdown",
   "metadata": {},
   "source": [
    "## Kernels"
   ]
  },
  {
   "cell_type": "markdown",
   "metadata": {},
   "source": [
    "Recuerda que un kernel es como una ventana que se desplaza por la imagen y su producto resalta características de una imagen según su \"configuración\".\n",
    "Como regla general, en dicha ventana, los '1' positivos representan la forma de la característica que queremos encontrar o resaltar."
   ]
  },
  {
   "cell_type": "code",
   "execution_count": null,
   "metadata": {},
   "outputs": [],
   "source": [
    "# Kernel para resaltar líneas verticales en una imagen\n",
    "kernel_v = np.array([[-1, 1, -1], \n",
    "          [-1, 1, -1], \n",
    "          [-1, 1, -1]])\n",
    "\n",
    "# Kernel para resaltar líneas horizontales\n",
    "kernel_h = np.array([[-1, -1, -1],\n",
    "                   [1, 1, 1],\n",
    "                   [-1, -1, -1]])\n",
    "\n",
    "# Kernel que resalta un punto rodeado de píxeles oscuros\n",
    "kernel = np.array([[-1, -1, -1], \n",
    "                   [-1, 1, -1],\n",
    "                   [-1, -1, -1]])\n",
    "\n",
    "# Kernel que encuentra un punto negro rodeado de píxeles brillantes\n",
    "kernel = np.array([[1, 1, 1], \n",
    "                   [1, -1, 1],\n",
    "                   [1, 1, 1]])"
   ]
  },
  {
   "cell_type": "markdown",
   "metadata": {},
   "source": [
    "## Red neuronal convolucional para clasificación de imágenes"
   ]
  },
  {
   "cell_type": "code",
   "execution_count": null,
   "metadata": {},
   "outputs": [],
   "source": [
    "\"\"\"A este código le falta importar imágenes de MNIST u otro dataset\"\"\"\n",
    "\n",
    "# Importamos los componentes necesarios de Keras\n",
    "from keras.models import Sequential\n",
    "from keras.layers import Dense, Conv2D, Flatten\n",
    "\n",
    "# Inicializamos nuestro modelo secuencial\n",
    "model = Sequential()\n",
    "\n",
    "# Agregamos una capa convolucional\n",
    "# 10 neuronas con un kernel de 3x3\n",
    "model.add(Conv2D(10, kernel_size=3), activation='relu', input_shape=(img_rows, img_cols, 1))\n",
    "\n",
    "# Aplanamos la salida de la capa convolucional.\n",
    "# Este paso es importante porque nos permitirá traducir entre el procesamiento de la imagen\n",
    "# y la parte de clasificación de la red.\n",
    "model.add(Flatten())\n",
    "\n",
    "# Agregamos una capa de salida para 3 categorías\n",
    "model.add(Dense(3, activation='softmax'))\n",
    "\n",
    "# Compilamos el modelo\n",
    "model.compile(optimizer='adam', loss='categorical_crossentropy', metrics=['accuracy'])\n",
    "\n",
    "# Ajustamos el modelo al set de entrenamiento\n",
    "model.fit(train_data, train_labels,\n",
    "    validation_split=0.2,\n",
    "    epochs=3, batch_size=10)\n",
    "\n",
    "# Finalmente evaluamos\n",
    "model.evaluate(test_data, test_labels, batch_size=10)"
   ]
  },
  {
   "cell_type": "markdown",
   "metadata": {},
   "source": [
    "## Agregar padding"
   ]
  },
  {
   "cell_type": "code",
   "execution_count": null,
   "metadata": {},
   "outputs": [],
   "source": [
    "# Comming soon"
   ]
  }
 ],
 "metadata": {
  "interpreter": {
   "hash": "5a0752da3053b84f5c190f28b54aad6c7460a88b6573662b0727913cd6c3acb6"
  },
  "kernelspec": {
   "display_name": "Python 3.8.0 64-bit ('tensorflowCertification-g0xU6U4H': pipenv)",
   "name": "python3"
  },
  "language_info": {
   "codemirror_mode": {
    "name": "ipython",
    "version": 3
   },
   "file_extension": ".py",
   "mimetype": "text/x-python",
   "name": "python",
   "nbconvert_exporter": "python",
   "pygments_lexer": "ipython3",
   "version": "3.8.0"
  },
  "orig_nbformat": 4
 },
 "nbformat": 4,
 "nbformat_minor": 2
}
