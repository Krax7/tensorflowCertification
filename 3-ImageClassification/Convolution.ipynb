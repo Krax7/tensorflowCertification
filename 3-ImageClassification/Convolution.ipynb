{
 "cells": [
  {
   "cell_type": "markdown",
   "source": [
    "# Convolución"
   ],
   "metadata": {}
  },
  {
   "cell_type": "markdown",
   "source": [
    "![image]('./img/conv2D.png')"
   ],
   "metadata": {}
  },
  {
   "cell_type": "code",
   "execution_count": 1,
   "source": [
    "import numpy as np"
   ],
   "outputs": [],
   "metadata": {}
  },
  {
   "cell_type": "markdown",
   "source": [
    "## Convolución en 1 dimensión"
   ],
   "metadata": {}
  },
  {
   "cell_type": "markdown",
   "source": [
    "Una convolución de una matriz unidimensional con un kernel consiste en tomar el kernel, deslizarlo a lo largo de la matriz, multiplicarlo con los elementos de la matriz que se superponen con el kernel en esa ubicación y sumar este producto."
   ],
   "metadata": {}
  },
  {
   "cell_type": "code",
   "execution_count": 2,
   "source": [
    "array = np.array([1, 0, 1, 0, 1, 0, 1, 0, 1, 0])\r\n",
    "kernel = np.array([1, -1, 0])\r\n",
    "conv = np.array([0, 0, 0, 0, 0, 0, 0, 0, 0, 0])\r\n",
    "\r\n",
    "# Output array\r\n",
    "for ii in range(8):\r\n",
    "    conv[ii] = (kernel * array[ii:ii+3]).sum()\r\n",
    "\r\n",
    "# Print conv\r\n",
    "print(conv)"
   ],
   "outputs": [
    {
     "output_type": "stream",
     "name": "stdout",
     "text": [
      "[ 1 -1  1 -1  1 -1  1 -1  0  0]\n"
     ]
    }
   ],
   "metadata": {}
  },
  {
   "cell_type": "markdown",
   "source": [
    "## Convolución sobre una imagen"
   ],
   "metadata": {}
  },
  {
   "cell_type": "code",
   "execution_count": null,
   "source": [
    "\"\"\"\r\n",
    "Este código no funcionará hasta que carguemos una imagen en B/N en 'im'\r\n",
    "\"\"\"\r\n",
    "\r\n",
    "kernel = np.array([[0, 1, 0], [1, 1, 1], [0, 1, 0]])\r\n",
    "result = np.zeros(im.shape)\r\n",
    "\r\n",
    "# Output array\r\n",
    "for ii in range(im.shape[0] - 3):\r\n",
    "    for jj in range(im.shape[1] - 3):\r\n",
    "        result[ii, jj] = (im[ii:ii+3, jj:jj+3] * kernel).sum()\r\n",
    "\r\n",
    "# Print result\r\n",
    "print(result)"
   ],
   "outputs": [],
   "metadata": {}
  },
  {
   "cell_type": "markdown",
   "source": [
    "## Kernels"
   ],
   "metadata": {}
  },
  {
   "cell_type": "markdown",
   "source": [
    "Recuerda que un kernel es como una ventana que se desplaza por la imagen y su producto resalta características de una imagen según su \"configuración\".\r\n",
    "Como regla general, en dicha ventana, los '1' positivos representan la forma de la característica que queremos encontrar o resaltar."
   ],
   "metadata": {}
  },
  {
   "cell_type": "code",
   "execution_count": null,
   "source": [
    "# Kernel para resaltar líneas verticales en una imagen\r\n",
    "kernel_v = np.array([[-1, 1, -1], \r\n",
    "          [-1, 1, -1], \r\n",
    "          [-1, 1, -1]])\r\n",
    "\r\n",
    "# Kernel para resaltar líneas horizontales\r\n",
    "kernel_h = np.array([[-1, -1, -1],\r\n",
    "                   [1, 1, 1],\r\n",
    "                   [-1, -1, -1]])\r\n",
    "\r\n",
    "# Kernel que resalta un punto rodeado de píxeles oscuros\r\n",
    "kernel = np.array([[-1, -1, -1], \r\n",
    "                   [-1, 1, -1],\r\n",
    "                   [-1, -1, -1]])\r\n",
    "\r\n",
    "# Kernel que encuentra un punto negro rodeado de píxeles brillantes\r\n",
    "kernel = np.array([[1, 1, 1], \r\n",
    "                   [1, -1, 1],\r\n",
    "                   [1, 1, 1]])"
   ],
   "outputs": [],
   "metadata": {}
  },
  {
   "cell_type": "markdown",
   "source": [
    "## Red neuronal convolucional para clasificación de imágenes"
   ],
   "metadata": {}
  },
  {
   "cell_type": "code",
   "execution_count": null,
   "source": [
    "\"\"\"A este código le falta importar imágenes de MNIST u otro dataset\"\"\"\r\n",
    "\r\n",
    "# Importamos los componentes necesarios de Keras\r\n",
    "from keras.models import Sequential\r\n",
    "from keras.layers import Dense, Conv2D, Flatten\r\n",
    "\r\n",
    "# Inicializamos nuestro modelo secuencial\r\n",
    "model = Sequential()\r\n",
    "\r\n",
    "# Agregamos una capa convolucional\r\n",
    "# 10 neuronas con un kernel de 3x3\r\n",
    "model.add(Conv2D(10, kernel_size=3), activation='relu', input_shape=(img_rows, img_cols, 1))\r\n",
    "\r\n",
    "# Aplanamos la salida de la capa convolucional.\r\n",
    "# Este paso es importante porque nos permitirá traducir entre el procesamiento de la imagen\r\n",
    "# y la parte de clasificación de la red.\r\n",
    "model.add(Flatten())\r\n",
    "\r\n",
    "# Agregamos una capa de salida para 3 categorías\r\n",
    "model.add(Dense(3, activation='softmax'))\r\n",
    "\r\n",
    "# Compilamos el modelo\r\n",
    "model.compile(optimizer='adam', loss='categorical_crossentropy', metrics=['accuracy'])\r\n",
    "\r\n",
    "# Ajustamos el modelo al set de entrenamiento\r\n",
    "model.fit(train_data, train_labels,\r\n",
    "    validation_split=0.2,\r\n",
    "    epochs=3, batch_size=10)\r\n",
    "\r\n",
    "# Finalmente evaluamos\r\n",
    "model.evaluate(test_data, test_labels, batch_size=10)"
   ],
   "outputs": [],
   "metadata": {}
  },
  {
   "cell_type": "markdown",
   "source": [
    "## Agregar padding"
   ],
   "metadata": {}
  },
  {
   "cell_type": "code",
   "execution_count": null,
   "source": [
    "# Comming soon"
   ],
   "outputs": [],
   "metadata": {}
  }
 ],
 "metadata": {
  "orig_nbformat": 4,
  "language_info": {
   "name": "python",
   "version": "3.8.0",
   "mimetype": "text/x-python",
   "codemirror_mode": {
    "name": "ipython",
    "version": 3
   },
   "pygments_lexer": "ipython3",
   "nbconvert_exporter": "python",
   "file_extension": ".py"
  },
  "kernelspec": {
   "name": "python3",
   "display_name": "Python 3.8.0 64-bit ('tensorflowCertification-g0xU6U4H': pipenv)"
  },
  "interpreter": {
   "hash": "5a0752da3053b84f5c190f28b54aad6c7460a88b6573662b0727913cd6c3acb6"
  }
 },
 "nbformat": 4,
 "nbformat_minor": 2
}